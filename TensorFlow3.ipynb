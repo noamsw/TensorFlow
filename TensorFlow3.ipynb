{
  "nbformat": 4,
  "nbformat_minor": 0,
  "metadata": {
    "colab": {
      "provenance": [],
      "authorship_tag": "ABX9TyNVzHHqEs1+Mjv0bTWvmLBQ",
      "include_colab_link": true
    },
    "kernelspec": {
      "name": "python3",
      "display_name": "Python 3"
    },
    "language_info": {
      "name": "python"
    }
  },
  "cells": [
    {
      "cell_type": "markdown",
      "metadata": {
        "id": "view-in-github",
        "colab_type": "text"
      },
      "source": [
        "<a href=\"https://colab.research.google.com/github/noamsw/TensorFlow/blob/main/TensorFlow3.ipynb\" target=\"_parent\"><img src=\"https://colab.research.google.com/assets/colab-badge.svg\" alt=\"Open In Colab\"/></a>"
      ]
    },
    {
      "cell_type": "code",
      "execution_count": 1,
      "metadata": {
        "id": "U7yogJbKaWWz"
      },
      "outputs": [],
      "source": [
        "import tensorflow as tf"
      ]
    },
    {
      "cell_type": "code",
      "source": [
        "# adding dimensions to a tensor:\n",
        "tensor = tf.constant([[1,2,3],\n",
        "                      [4,5,6]])\n",
        "print(tensor.shape)\n",
        "print(tf.expand_dims(tensor, axis=-1).shape)"
      ],
      "metadata": {
        "colab": {
          "base_uri": "https://localhost:8080/"
        },
        "id": "zuo2ztMbamJx",
        "outputId": "71d9046e-f1d9-4b8b-ecb4-de2a1f6b1833"
      },
      "execution_count": 2,
      "outputs": [
        {
          "output_type": "stream",
          "name": "stdout",
          "text": [
            "(2, 3)\n",
            "(2, 3, 1)\n"
          ]
        }
      ]
    },
    {
      "cell_type": "code",
      "source": [
        "# squeeze or lowering dimension\n",
        "# removes all dimensions of size 1\n",
        "tensor = tf.constant([[[[1,2,3],\n",
        "                      [4,5,6]]]])\n",
        "print(tensor.shape)\n",
        "print(tf.squeeze(tensor,axis=0).shape)\n",
        "# if you dont specify an axis, it will squeeze all dimensions of 1\n",
        "print(tf.squeeze(tensor).shape)"
      ],
      "metadata": {
        "colab": {
          "base_uri": "https://localhost:8080/"
        },
        "id": "7azwluPHazJh",
        "outputId": "15fa24e7-1491-4698-d7a3-8fa1770a67b9"
      },
      "execution_count": 3,
      "outputs": [
        {
          "output_type": "stream",
          "name": "stdout",
          "text": [
            "(1, 1, 2, 3)\n",
            "(1, 2, 3)\n",
            "(2, 3)\n"
          ]
        }
      ]
    },
    {
      "cell_type": "code",
      "source": [
        "# we can alo reshape to resqueeze\n",
        "print(tf.reshape(tensor, (2,3)))\n",
        "# we can also reshape it into a 1D array\n",
        "print(tf.reshape(tensor, (6)))\n",
        "print(tf.reshape(tensor, (3,2)))"
      ],
      "metadata": {
        "id": "SyzPaNDCbc4h",
        "colab": {
          "base_uri": "https://localhost:8080/"
        },
        "outputId": "5c085b62-1528-4d8a-8ff2-962941ea11d7"
      },
      "execution_count": 4,
      "outputs": [
        {
          "output_type": "stream",
          "name": "stdout",
          "text": [
            "tf.Tensor(\n",
            "[[1 2 3]\n",
            " [4 5 6]], shape=(2, 3), dtype=int32)\n",
            "tf.Tensor([1 2 3 4 5 6], shape=(6,), dtype=int32)\n",
            "tf.Tensor(\n",
            "[[1 2]\n",
            " [3 4]\n",
            " [5 6]], shape=(3, 2), dtype=int32)\n"
          ]
        }
      ]
    },
    {
      "cell_type": "code",
      "source": [
        "# if you dont know the size of the last dimension, use -1\n",
        "print(tf.reshape(tensor, (3,-1)))\n",
        "print(tf.reshape(tensor, (-1)))"
      ],
      "metadata": {
        "colab": {
          "base_uri": "https://localhost:8080/"
        },
        "id": "pK5C3asJ374c",
        "outputId": "b9cc6b0e-03c9-4849-a319-f0b44ab51c58"
      },
      "execution_count": 5,
      "outputs": [
        {
          "output_type": "stream",
          "name": "stdout",
          "text": [
            "tf.Tensor(\n",
            "[[1 2]\n",
            " [3 4]\n",
            " [5 6]], shape=(3, 2), dtype=int32)\n",
            "tf.Tensor([1 2 3 4 5 6], shape=(6,), dtype=int32)\n"
          ]
        }
      ]
    },
    {
      "cell_type": "code",
      "source": [
        "# we can concatenate tensors along an axis, the size of that axis must match\n",
        "t1 = tf.squeeze(tensor)\n",
        "t2 = tf.constant([[7,8,9]])\n",
        "# 0 is along the rows, 1 alog the columns\n",
        "tf.concat([t1, t2], 0)\n",
        "# in order to concatenate along columns, the second dimension must match\n",
        "t2 = tf.constant([[7,8],\n",
        "                  [10,11]])\n",
        "tf.concat([t1, t2], 1)"
      ],
      "metadata": {
        "colab": {
          "base_uri": "https://localhost:8080/"
        },
        "id": "jJbifsjG4LsS",
        "outputId": "f166097e-6292-4855-a3b4-1b11bd6900a5"
      },
      "execution_count": 6,
      "outputs": [
        {
          "output_type": "execute_result",
          "data": {
            "text/plain": [
              "<tf.Tensor: shape=(2, 5), dtype=int32, numpy=\n",
              "array([[ 1,  2,  3,  7,  8],\n",
              "       [ 4,  5,  6, 10, 11]], dtype=int32)>"
            ]
          },
          "metadata": {},
          "execution_count": 6
        }
      ]
    },
    {
      "cell_type": "code",
      "source": [
        "# stack, which simply adds the two tensors together\n",
        "t2 = tf.constant([[7,8,9],\n",
        "                  [10,11,12]])\n",
        "print(tf.stack([t1,t2], axis = 0))\n",
        "print(tf.stack([t1,t2], axis = 1))\n",
        "# it simply tells us were we add up the dimensions\n",
        "# it is clearer with more tensors\n",
        "# we have tensors of size (2,3)\n",
        "# if we add 3 on the 0 dimension, we get (3,2,3)\n",
        "# if we add 3 on the 1 axis, we get (2,3,3)\n",
        "# if we add 3 on the 2 axis, we get (2,3,3)\n",
        "print(tf.stack([t1,t1,t2], axis = 0))\n",
        "print(tf.stack([t1,t1,t2], axis = 1))\n",
        "print(tf.stack([t1,t1,t2], axis = 2))\n"
      ],
      "metadata": {
        "colab": {
          "base_uri": "https://localhost:8080/"
        },
        "id": "pUQhapsb49kb",
        "outputId": "d874503e-10ae-412e-ee3b-db21f005ac96"
      },
      "execution_count": 7,
      "outputs": [
        {
          "output_type": "stream",
          "name": "stdout",
          "text": [
            "tf.Tensor(\n",
            "[[[ 1  2  3]\n",
            "  [ 4  5  6]]\n",
            "\n",
            " [[ 7  8  9]\n",
            "  [10 11 12]]], shape=(2, 2, 3), dtype=int32)\n",
            "tf.Tensor(\n",
            "[[[ 1  2  3]\n",
            "  [ 7  8  9]]\n",
            "\n",
            " [[ 4  5  6]\n",
            "  [10 11 12]]], shape=(2, 2, 3), dtype=int32)\n",
            "tf.Tensor(\n",
            "[[[ 1  2  3]\n",
            "  [ 4  5  6]]\n",
            "\n",
            " [[ 1  2  3]\n",
            "  [ 4  5  6]]\n",
            "\n",
            " [[ 7  8  9]\n",
            "  [10 11 12]]], shape=(3, 2, 3), dtype=int32)\n",
            "tf.Tensor(\n",
            "[[[ 1  2  3]\n",
            "  [ 1  2  3]\n",
            "  [ 7  8  9]]\n",
            "\n",
            " [[ 4  5  6]\n",
            "  [ 4  5  6]\n",
            "  [10 11 12]]], shape=(2, 3, 3), dtype=int32)\n",
            "tf.Tensor(\n",
            "[[[ 1  1  7]\n",
            "  [ 2  2  8]\n",
            "  [ 3  3  9]]\n",
            "\n",
            " [[ 4  4 10]\n",
            "  [ 5  5 11]\n",
            "  [ 6  6 12]]], shape=(2, 3, 3), dtype=int32)\n"
          ]
        }
      ]
    },
    {
      "cell_type": "code",
      "source": [
        "# paddings, which will pad with a value to a certain size\n",
        "# here we tell the paddings function how many rows to pad\n",
        "# and how many columns to pad before and after\n",
        "paddings = tf.constant([[1,2], [2,3]])\n",
        "tensor = tf.constant([[1,2,3],\n",
        "                      [4,5,6]])\n",
        "# the default is 0\n",
        "tf.pad(tensor, paddings)"
      ],
      "metadata": {
        "id": "qf2ii_qY6gtS",
        "colab": {
          "base_uri": "https://localhost:8080/"
        },
        "outputId": "13126d2f-6b08-479b-c63e-55af6154f420"
      },
      "execution_count": 11,
      "outputs": [
        {
          "output_type": "execute_result",
          "data": {
            "text/plain": [
              "<tf.Tensor: shape=(5, 8), dtype=int32, numpy=\n",
              "array([[0, 0, 0, 0, 0, 0, 0, 0],\n",
              "       [0, 0, 1, 2, 3, 0, 0, 0],\n",
              "       [0, 0, 4, 5, 6, 0, 0, 0],\n",
              "       [0, 0, 0, 0, 0, 0, 0, 0],\n",
              "       [0, 0, 0, 0, 0, 0, 0, 0]], dtype=int32)>"
            ]
          },
          "metadata": {},
          "execution_count": 11
        }
      ]
    },
    {
      "cell_type": "code",
      "source": [
        "# we can change it to whatever\n",
        "tf.pad(tensor, paddings, constant_values = 3)"
      ],
      "metadata": {
        "colab": {
          "base_uri": "https://localhost:8080/"
        },
        "id": "j8R8rLno7ddm",
        "outputId": "65bb4cc0-9a7f-4d42-bb01-76283d376cf6"
      },
      "execution_count": 9,
      "outputs": [
        {
          "output_type": "execute_result",
          "data": {
            "text/plain": [
              "<tf.Tensor: shape=(4, 7), dtype=int32, numpy=\n",
              "array([[3, 3, 3, 3, 3, 3, 3],\n",
              "       [3, 3, 1, 2, 3, 3, 3],\n",
              "       [3, 3, 4, 5, 6, 3, 3],\n",
              "       [3, 3, 3, 3, 3, 3, 3]], dtype=int32)>"
            ]
          },
          "metadata": {},
          "execution_count": 9
        }
      ]
    },
    {
      "cell_type": "code",
      "source": [
        "# tf gather is a way to access indecis\n",
        "tensor = tf.constant([1,2,3,4,5,6])\n",
        "# we can access with classic access operators\n",
        "tensor[1:3]"
      ],
      "metadata": {
        "colab": {
          "base_uri": "https://localhost:8080/"
        },
        "id": "0fHmMMx075wk",
        "outputId": "149c2f56-1aa7-4736-955e-0965f9e0ef2b"
      },
      "execution_count": 13,
      "outputs": [
        {
          "output_type": "execute_result",
          "data": {
            "text/plain": [
              "<tf.Tensor: shape=(2,), dtype=int32, numpy=array([2, 3], dtype=int32)>"
            ]
          },
          "metadata": {},
          "execution_count": 13
        }
      ]
    },
    {
      "cell_type": "code",
      "source": [
        "# we can use gather\n",
        "tf.gather(tensor, tf.range(1,3))"
      ],
      "metadata": {
        "colab": {
          "base_uri": "https://localhost:8080/"
        },
        "id": "NEptRy2C87xC",
        "outputId": "3e103bca-775d-439e-b1fb-48072035e36f"
      },
      "execution_count": 15,
      "outputs": [
        {
          "output_type": "execute_result",
          "data": {
            "text/plain": [
              "<tf.Tensor: shape=(2,), dtype=int32, numpy=array([2, 3], dtype=int32)>"
            ]
          },
          "metadata": {},
          "execution_count": 15
        }
      ]
    },
    {
      "cell_type": "code",
      "source": [
        "# lets play with it a bit\n",
        "tf.gather(tensor, [0,5,2])"
      ],
      "metadata": {
        "colab": {
          "base_uri": "https://localhost:8080/"
        },
        "id": "SXDqVmwe9J8g",
        "outputId": "64b3d6ca-e165-46a1-b6e2-86ca46049522"
      },
      "execution_count": 18,
      "outputs": [
        {
          "output_type": "execute_result",
          "data": {
            "text/plain": [
              "<tf.Tensor: shape=(3,), dtype=int32, numpy=array([1, 6, 3], dtype=int32)>"
            ]
          },
          "metadata": {},
          "execution_count": 18
        }
      ]
    },
    {
      "cell_type": "code",
      "source": [
        "tensor = tf.constant([[1,2,3],\n",
        "                      [4,5,6]])\n",
        "# the default axis is 0\n",
        "tf.gather(tensor, [0])"
      ],
      "metadata": {
        "colab": {
          "base_uri": "https://localhost:8080/"
        },
        "id": "D2mtzHwd9a6_",
        "outputId": "0c4087f7-ab69-4e2c-d05d-63fddb6109b4"
      },
      "execution_count": 20,
      "outputs": [
        {
          "output_type": "execute_result",
          "data": {
            "text/plain": [
              "<tf.Tensor: shape=(1, 3), dtype=int32, numpy=array([[1, 2, 3]], dtype=int32)>"
            ]
          },
          "metadata": {},
          "execution_count": 20
        }
      ]
    },
    {
      "cell_type": "code",
      "source": [
        "tensor = tf.constant([[[1,2,3],\n",
        "                      [4,5,6]],\n",
        "                     [[7,8,9],\n",
        "                      [10,11,12]],\n",
        "                      ])\n",
        "# the default axis is 0\n",
        "print(tensor.shape)\n",
        "tf.gather(tensor, [1,0], axis = 1)"
      ],
      "metadata": {
        "colab": {
          "base_uri": "https://localhost:8080/"
        },
        "id": "TFMmICpr9zkK",
        "outputId": "2029011f-a1eb-4c7d-95f8-1798978bbba2"
      },
      "execution_count": 29,
      "outputs": [
        {
          "output_type": "stream",
          "name": "stdout",
          "text": [
            "(2, 2, 3)\n"
          ]
        },
        {
          "output_type": "execute_result",
          "data": {
            "text/plain": [
              "<tf.Tensor: shape=(2, 2, 3), dtype=int32, numpy=\n",
              "array([[[ 4,  5,  6],\n",
              "        [ 1,  2,  3]],\n",
              "\n",
              "       [[10, 11, 12],\n",
              "        [ 7,  8,  9]]], dtype=int32)>"
            ]
          },
          "metadata": {},
          "execution_count": 29
        }
      ]
    },
    {
      "cell_type": "code",
      "source": [
        "# gather_nd is like gather, but we can change the ouptut shape\n",
        "params = [[[\"a0\",\"b0\"],\n",
        "          [\"c0\",\"d0\"]],\n",
        "          [[\"a1\",\"b1\"],\n",
        "           [\"c1\",\"d1\"]]]\n",
        "indices = [[0],\n",
        "           [1]]\n",
        "tf.gather_nd(params, indices)\n",
        "# we take the 0 and 1 element from the array"
      ],
      "metadata": {
        "colab": {
          "base_uri": "https://localhost:8080/"
        },
        "id": "GpaOm1lX9-Wd",
        "outputId": "1c3619bb-282e-4c7c-bebb-c4fb8ae2d846"
      },
      "execution_count": 37,
      "outputs": [
        {
          "output_type": "execute_result",
          "data": {
            "text/plain": [
              "<tf.Tensor: shape=(2, 2, 2), dtype=string, numpy=\n",
              "array([[[b'a0', b'b0'],\n",
              "        [b'c0', b'd0']],\n",
              "\n",
              "       [[b'a1', b'b1'],\n",
              "        [b'c1', b'd1']]], dtype=object)>"
            ]
          },
          "metadata": {},
          "execution_count": 37
        }
      ]
    },
    {
      "cell_type": "code",
      "source": [
        "# lets take 1,1\n",
        "indices = [[1,1]]\n",
        "tf.gather_nd(params, indices)"
      ],
      "metadata": {
        "colab": {
          "base_uri": "https://localhost:8080/"
        },
        "id": "Wxr6F4SbAUds",
        "outputId": "cba67076-9dc8-4348-f8b7-c3fa9937f0d5"
      },
      "execution_count": 33,
      "outputs": [
        {
          "output_type": "execute_result",
          "data": {
            "text/plain": [
              "<tf.Tensor: shape=(1,), dtype=string, numpy=array([b'd'], dtype=object)>"
            ]
          },
          "metadata": {},
          "execution_count": 33
        }
      ]
    },
    {
      "cell_type": "code",
      "source": [
        "# lets take 01 and 10\n",
        "indices = [[0,1], [1,0]]\n",
        "tf.gather_nd(params, indices)"
      ],
      "metadata": {
        "colab": {
          "base_uri": "https://localhost:8080/"
        },
        "id": "28Zp3FZ7Ar0m",
        "outputId": "db2c693c-8d05-4581-8c91-a114e16b8fa4"
      },
      "execution_count": 35,
      "outputs": [
        {
          "output_type": "execute_result",
          "data": {
            "text/plain": [
              "<tf.Tensor: shape=(2,), dtype=string, numpy=array([b'b', b'c'], dtype=object)>"
            ]
          },
          "metadata": {},
          "execution_count": 35
        }
      ]
    },
    {
      "cell_type": "code",
      "source": [
        "# the resulting shape is also determined by the indicis\n",
        "indices = [[[0,1],\n",
        "            [1,0]],\n",
        "\n",
        "           [[1,1],\n",
        "            [0,0]]]\n",
        "tf.gather_nd(params, indices)"
      ],
      "metadata": {
        "colab": {
          "base_uri": "https://localhost:8080/"
        },
        "id": "KAQi7lgeAxDZ",
        "outputId": "63c2f3f7-f815-441d-8512-a79b3f7d4334"
      },
      "execution_count": 41,
      "outputs": [
        {
          "output_type": "execute_result",
          "data": {
            "text/plain": [
              "<tf.Tensor: shape=(2, 2, 2), dtype=string, numpy=\n",
              "array([[[b'c0', b'd0'],\n",
              "        [b'a1', b'b1']],\n",
              "\n",
              "       [[b'c1', b'd1'],\n",
              "        [b'a0', b'b0']]], dtype=object)>"
            ]
          },
          "metadata": {},
          "execution_count": 41
        }
      ]
    },
    {
      "cell_type": "code",
      "source": [
        "#lets look at the batch dims argument, by default is 0\n",
        "indices = [[0,1],\n",
        "           [1,0]]\n",
        "print(tf.gather_nd(params, indices))\n",
        "print(tf.gather_nd(params, indices, batch_dims=0))"
      ],
      "metadata": {
        "colab": {
          "base_uri": "https://localhost:8080/"
        },
        "id": "kqzgO7PWGIqu",
        "outputId": "20ce2b96-db76-4d26-ff70-2dce5b5ff756"
      },
      "execution_count": 45,
      "outputs": [
        {
          "output_type": "stream",
          "name": "stdout",
          "text": [
            "tf.Tensor(\n",
            "[[b'c0' b'd0']\n",
            " [b'a1' b'b1']], shape=(2, 2), dtype=string)\n",
            "tf.Tensor(\n",
            "[[b'c0' b'd0']\n",
            " [b'a1' b'b1']], shape=(2, 2), dtype=string)\n"
          ]
        }
      ]
    },
    {
      "cell_type": "code",
      "source": [
        "# lets change the parameter\n",
        "tf.gather_nd(params, indices, batch_dims=1)\n",
        "# what happened here? we tell the function that there are nultiple batches,\n",
        "# and elements in the indices are for eatch batch"
      ],
      "metadata": {
        "colab": {
          "base_uri": "https://localhost:8080/"
        },
        "id": "23o-ybAyG2mz",
        "outputId": "776ea3de-72f4-4ddd-da8a-a27136a429e8"
      },
      "execution_count": 46,
      "outputs": [
        {
          "output_type": "execute_result",
          "data": {
            "text/plain": [
              "<tf.Tensor: shape=(2,), dtype=string, numpy=array([b'b0', b'c1'], dtype=object)>"
            ]
          },
          "metadata": {},
          "execution_count": 46
        }
      ]
    },
    {
      "cell_type": "code",
      "source": [
        "# ragged tensors\n",
        "# until now we have had square tensors\n",
        "tensor = tf.constant([[1,2,3],\n",
        "                      [4,5,6],\n",
        "                      [7,8,9,],\n",
        "                      [10,11,12]])\n",
        "# but sometimes we dont want rectangular tensors\n",
        "ragged =  [[1,],\n",
        "          [2,3,4,5,6],\n",
        "          [7,8,],\n",
        "          [9,10,11,12]]\n",
        "# here is were rgged tensors come in\n",
        "ragged_tensor = tf.ragged.constant(ragged)\n",
        "print(ragged_tensor)\n",
        "# the shape is none on the none rectangular axis\n",
        "print(ragged_tensor.shape)"
      ],
      "metadata": {
        "colab": {
          "base_uri": "https://localhost:8080/"
        },
        "id": "rbGPnHBIIE57",
        "outputId": "0312690d-a7ee-4392-fc31-7d4bc0f22a03"
      },
      "execution_count": 51,
      "outputs": [
        {
          "output_type": "stream",
          "name": "stdout",
          "text": [
            "<tf.RaggedTensor [[1], [2, 3, 4, 5, 6], [7, 8], [9, 10, 11, 12]]>\n",
            "(4, None)\n"
          ]
        }
      ]
    },
    {
      "cell_type": "code",
      "source": [
        "# we can easily mask data\n",
        "# either make an exact mask\n",
        "ragged =  [[1,],\n",
        "          [2,3,4,5,6],\n",
        "          [7,8,]]\n",
        "# only the data that is masked with true will be saved\n",
        "ragged_tensor = tf.ragged.constant(ragged)\n",
        "tf.ragged.boolean_mask(\n",
        "    ragged_tensor,\n",
        "    tf.ragged.constant(([[True],[True,False,False,True,True],[True,False]]))\n",
        ")\n"
      ],
      "metadata": {
        "colab": {
          "base_uri": "https://localhost:8080/"
        },
        "id": "JAs62KhxJKzC",
        "outputId": "3c8883eb-c273-4f86-e3ab-268e92be8771"
      },
      "execution_count": 56,
      "outputs": [
        {
          "output_type": "execute_result",
          "data": {
            "text/plain": [
              "<tf.RaggedTensor [[1], [2, 5, 6], [7]]>"
            ]
          },
          "metadata": {},
          "execution_count": 56
        }
      ]
    },
    {
      "cell_type": "code",
      "source": [
        "# one can also give a single value for each row:\n",
        "tf.ragged.boolean_mask(\n",
        "    ragged_tensor,\n",
        "    tf.ragged.constant([True, False, True])\n",
        ")\n",
        "# here the second row was ignored"
      ],
      "metadata": {
        "colab": {
          "base_uri": "https://localhost:8080/"
        },
        "id": "Y0fR8swBJMU6",
        "outputId": "22d5537f-af1e-468d-a45b-e37c5f721406"
      },
      "execution_count": 58,
      "outputs": [
        {
          "output_type": "execute_result",
          "data": {
            "text/plain": [
              "<tf.RaggedTensor [[1], [7, 8]]>"
            ]
          },
          "metadata": {},
          "execution_count": 58
        }
      ]
    },
    {
      "cell_type": "code",
      "source": [
        "# lets look at tf.from_row_limits\n",
        "print(tf.RaggedTensor.from_row_lengths(\n",
        "    values = [3, 1, 4, 1, 5, 9, 2, 6],\n",
        "    row_lengths = [4,0,0,3,1,0]\n",
        "))"
      ],
      "metadata": {
        "colab": {
          "base_uri": "https://localhost:8080/"
        },
        "id": "4iwly7WCLEIS",
        "outputId": "3a051bce-bd1d-4b37-cd77-ef295236cb92"
      },
      "execution_count": 64,
      "outputs": [
        {
          "output_type": "stream",
          "name": "stdout",
          "text": [
            "<tf.RaggedTensor [[3, 1, 4, 1], [], [], [5, 9, 2], [6], []]>\n"
          ]
        }
      ]
    },
    {
      "cell_type": "code",
      "source": [
        "# lets look at tf.from_row_limits\n",
        "print(tf.RaggedTensor.from_row_limits(\n",
        "    values = [3, 1, 4, 1, 5, 9, 2, 6],\n",
        "    row_limits = [4,4,7,8,8]\n",
        "))\n",
        "# here we continue breaking apart the values by limits\n",
        "# if we stay at the same position, we get an empty list as we have alreasdy used it\n",
        "# we have 0->4, 4->4, 4->7 etc"
      ],
      "metadata": {
        "colab": {
          "base_uri": "https://localhost:8080/"
        },
        "id": "DBu6Hd2xL8Yt",
        "outputId": "7b18ef9d-f9be-4bc9-f5fe-fc78bd7678c7"
      },
      "execution_count": 68,
      "outputs": [
        {
          "output_type": "stream",
          "name": "stdout",
          "text": [
            "<tf.RaggedTensor [[3, 1, 4, 1], [], [5, 9, 2], [6], []]>\n"
          ]
        }
      ]
    },
    {
      "cell_type": "code",
      "source": [
        "# lets look at tf.from_row_splits\n",
        "print(tf.RaggedTensor.from_row_splits(\n",
        "    values = [3, 1, 4, 1, 5, 9, 2, 6],\n",
        "    row_splits = [0,4,4,7,8,8]\n",
        "))\n",
        "# we have 0->4, 4->4, 4->7, 7->8, 8->8"
      ],
      "metadata": {
        "colab": {
          "base_uri": "https://localhost:8080/"
        },
        "id": "05PqEFPeMf77",
        "outputId": "22e2bc96-8528-41bc-cb32-1585e031b4a5"
      },
      "execution_count": 69,
      "outputs": [
        {
          "output_type": "stream",
          "name": "stdout",
          "text": [
            "<tf.RaggedTensor [[3, 1, 4, 1], [], [5, 9, 2], [6], []]>\n"
          ]
        }
      ]
    },
    {
      "cell_type": "code",
      "source": [
        "# we can also take only certain parts from a tensor, creating a ragged tensor\n",
        "tensor = tf.constant([[1,2,3],[4,5,6], [7,8,9]])\n",
        "tf.RaggedTensor.from_tensor(tensor, lengths = [1,0,3])"
      ],
      "metadata": {
        "colab": {
          "base_uri": "https://localhost:8080/"
        },
        "id": "iox2s27MNAdn",
        "outputId": "3bc79764-c479-492d-ed52-6d6765d37f46"
      },
      "execution_count": 71,
      "outputs": [
        {
          "output_type": "execute_result",
          "data": {
            "text/plain": [
              "<tf.RaggedTensor [[1], [], [7, 8, 9]]>"
            ]
          },
          "metadata": {},
          "execution_count": 71
        }
      ]
    },
    {
      "cell_type": "code",
      "source": [
        "# we may deal with tensor with many 0s\n",
        "# we will want to use sparse tensor\n",
        "sparse_tensor = tf.sparse.SparseTensor(\n",
        "    indices = [[1,1],[3,4]],\n",
        "    values = [11,56],\n",
        "    dense_shape = [5,6]\n",
        ")\n",
        "print(sparse_tensor)"
      ],
      "metadata": {
        "colab": {
          "base_uri": "https://localhost:8080/"
        },
        "id": "Sr5_c6HzNYoZ",
        "outputId": "fd0e7eb2-e474-4aca-862b-a36236cac95c"
      },
      "execution_count": 74,
      "outputs": [
        {
          "output_type": "stream",
          "name": "stdout",
          "text": [
            "SparseTensor(indices=tf.Tensor(\n",
            "[[1 1]\n",
            " [3 4]], shape=(2, 2), dtype=int64), values=tf.Tensor([11 56], shape=(2,), dtype=int32), dense_shape=tf.Tensor([5 6], shape=(2,), dtype=int64))\n"
          ]
        }
      ]
    },
    {
      "cell_type": "code",
      "source": [
        "# how to map to a tensor\n",
        "# here we see that we said at 1,1 the value is 11 and at 3,4 56\n",
        "# and shape 5,6. which is what we got\n",
        "tf.sparse.to_dense(sparse_tensor)"
      ],
      "metadata": {
        "colab": {
          "base_uri": "https://localhost:8080/"
        },
        "id": "kui5UQxXOGDS",
        "outputId": "c548744d-0421-4c9f-88fa-a38b7eff484b"
      },
      "execution_count": 75,
      "outputs": [
        {
          "output_type": "execute_result",
          "data": {
            "text/plain": [
              "<tf.Tensor: shape=(5, 6), dtype=int32, numpy=\n",
              "array([[ 0,  0,  0,  0,  0,  0],\n",
              "       [ 0, 11,  0,  0,  0,  0],\n",
              "       [ 0,  0,  0,  0,  0,  0],\n",
              "       [ 0,  0,  0,  0, 56,  0],\n",
              "       [ 0,  0,  0,  0,  0,  0]], dtype=int32)>"
            ]
          },
          "metadata": {},
          "execution_count": 75
        }
      ]
    },
    {
      "cell_type": "code",
      "source": [
        "# String Tensors\n",
        "string_tensor = tf.constant([\"Hello\", \"World\"])\n",
        "string_tensor"
      ],
      "metadata": {
        "colab": {
          "base_uri": "https://localhost:8080/"
        },
        "id": "NAGoBUf7OXO8",
        "outputId": "232e02ba-4154-4de1-a477-6c9e915a7cb9"
      },
      "execution_count": 77,
      "outputs": [
        {
          "output_type": "execute_result",
          "data": {
            "text/plain": [
              "<tf.Tensor: shape=(2,), dtype=string, numpy=array([b'Hello', b'World'], dtype=object)>"
            ]
          },
          "metadata": {},
          "execution_count": 77
        }
      ]
    },
    {
      "cell_type": "code",
      "source": [
        "# join method, with a specified seperator\n",
        "tf.strings.join(string_tensor, separator='/')"
      ],
      "metadata": {
        "colab": {
          "base_uri": "https://localhost:8080/"
        },
        "id": "CJuIMK5-Okeo",
        "outputId": "13ae3f72-0c57-4c91-f07d-ab2ceee3baa5"
      },
      "execution_count": 82,
      "outputs": [
        {
          "output_type": "execute_result",
          "data": {
            "text/plain": [
              "<tf.Tensor: shape=(), dtype=string, numpy=b'Hello/World'>"
            ]
          },
          "metadata": {},
          "execution_count": 82
        }
      ]
    },
    {
      "cell_type": "code",
      "source": [
        "# we have lenght, lower, and many more"
      ],
      "metadata": {
        "id": "DcPZ7cM_O41d"
      },
      "execution_count": null,
      "outputs": []
    }
  ]
}