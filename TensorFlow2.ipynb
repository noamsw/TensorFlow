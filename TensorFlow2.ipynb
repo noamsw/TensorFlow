{
  "nbformat": 4,
  "nbformat_minor": 0,
  "metadata": {
    "colab": {
      "provenance": [],
      "authorship_tag": "ABX9TyOHi9UHKBEfCnPraEwkr3d6",
      "include_colab_link": true
    },
    "kernelspec": {
      "name": "python3",
      "display_name": "Python 3"
    },
    "language_info": {
      "name": "python"
    }
  },
  "cells": [
    {
      "cell_type": "markdown",
      "metadata": {
        "id": "view-in-github",
        "colab_type": "text"
      },
      "source": [
        "<a href=\"https://colab.research.google.com/github/noamsw/TensorFlow/blob/main/TensorFlow2.ipynb\" target=\"_parent\"><img src=\"https://colab.research.google.com/assets/colab-badge.svg\" alt=\"Open In Colab\"/></a>"
      ]
    },
    {
      "cell_type": "code",
      "source": [
        "import tensorflow as tf"
      ],
      "metadata": {
        "id": "woASC8P15xG-"
      },
      "execution_count": 2,
      "outputs": []
    },
    {
      "cell_type": "code",
      "execution_count": null,
      "metadata": {
        "colab": {
          "base_uri": "https://localhost:8080/"
        },
        "id": "lDj1hE3s5HyC",
        "outputId": "5a74ef62-35ea-4732-c1e5-9520162e482d"
      },
      "outputs": [
        {
          "output_type": "execute_result",
          "data": {
            "text/plain": [
              "<tf.Tensor: shape=(9,), dtype=int32, numpy=array([1, 2, 3, 4, 5, 6, 7, 8, 9], dtype=int32)>"
            ]
          },
          "metadata": {},
          "execution_count": 2
        }
      ],
      "source": [
        "# learning how to index tensors\n",
        "tensor = tf.constant([1,2,3,4,5,6,7,8,9])\n",
        "tensor"
      ]
    },
    {
      "cell_type": "code",
      "source": [
        "# tensors are indexed like regular arrays, i.e. 0 indexed\n",
        "# each index will be a tensor itself\n",
        "tensor[0]"
      ],
      "metadata": {
        "colab": {
          "base_uri": "https://localhost:8080/"
        },
        "id": "c0q2nWZW5rcM",
        "outputId": "ccb78ff3-f47f-495e-e251-81d943575b2b"
      },
      "execution_count": null,
      "outputs": [
        {
          "output_type": "execute_result",
          "data": {
            "text/plain": [
              "<tf.Tensor: shape=(), dtype=int32, numpy=1>"
            ]
          },
          "metadata": {},
          "execution_count": 3
        }
      ]
    },
    {
      "cell_type": "code",
      "source": [
        "tensor[0:4]"
      ],
      "metadata": {
        "colab": {
          "base_uri": "https://localhost:8080/"
        },
        "id": "fDhw_4Bi54OO",
        "outputId": "ccfbed21-4803-43a2-852b-2eb5ea4ddb7c"
      },
      "execution_count": null,
      "outputs": [
        {
          "output_type": "execute_result",
          "data": {
            "text/plain": [
              "<tf.Tensor: shape=(4,), dtype=int32, numpy=array([1, 2, 3, 4], dtype=int32)>"
            ]
          },
          "metadata": {},
          "execution_count": 4
        }
      ]
    },
    {
      "cell_type": "code",
      "source": [
        "# we can create tensors with ranges of numbers\n",
        "# the range acts the same as python ranges\n",
        "# range(startindex (included), endindex(not included), steps)\n",
        "range_tensor = tf.range(0,5)\n",
        "range_tensor"
      ],
      "metadata": {
        "colab": {
          "base_uri": "https://localhost:8080/"
        },
        "id": "BjA7yAsW6DIM",
        "outputId": "eca6e4ae-8bf7-452e-ec5c-8442c579bf4b"
      },
      "execution_count": null,
      "outputs": [
        {
          "output_type": "execute_result",
          "data": {
            "text/plain": [
              "<tf.Tensor: shape=(5,), dtype=int32, numpy=array([0, 1, 2, 3, 4], dtype=int32)>"
            ]
          },
          "metadata": {},
          "execution_count": 5
        }
      ]
    },
    {
      "cell_type": "code",
      "source": [
        "# exploring how indexing works in 2D tensors\n",
        "tensor_2D = tf.random.uniform([4,3], minval=-100, maxval=100, dtype=tf.int32)\n",
        "tensor_2D"
      ],
      "metadata": {
        "colab": {
          "base_uri": "https://localhost:8080/"
        },
        "id": "HlAB8FEh6boj",
        "outputId": "689c564f-66ed-4efb-ff81-0dcdcda16a3b"
      },
      "execution_count": null,
      "outputs": [
        {
          "output_type": "execute_result",
          "data": {
            "text/plain": [
              "<tf.Tensor: shape=(4, 3), dtype=int32, numpy=\n",
              "array([[ 96, -60,  24],\n",
              "       [ 91,  39, -67],\n",
              "       [-70, -97, -78],\n",
              "       [ 65,  64,  57]], dtype=int32)>"
            ]
          },
          "metadata": {},
          "execution_count": 18
        }
      ]
    },
    {
      "cell_type": "code",
      "source": [
        "# suppose we want the first 3 rows and 2 cols:\n",
        "sub_tensor = tensor_2D[0:3, 0:2]\n",
        "sub_tensor"
      ],
      "metadata": {
        "colab": {
          "base_uri": "https://localhost:8080/"
        },
        "id": "Xd9DOa8M7X1S",
        "outputId": "512bb40b-1440-4ca3-a3f2-e083a32f5bf6"
      },
      "execution_count": null,
      "outputs": [
        {
          "output_type": "execute_result",
          "data": {
            "text/plain": [
              "<tf.Tensor: shape=(3, 2), dtype=int32, numpy=\n",
              "array([[38, 51],\n",
              "       [12,  6],\n",
              "       [25, 51]], dtype=int32)>"
            ]
          },
          "metadata": {},
          "execution_count": 7
        }
      ]
    },
    {
      "cell_type": "code",
      "source": [
        "# select only a specific row\n",
        "subrow_tensor = tensor_2D[2,:]\n",
        "subrow_tensor"
      ],
      "metadata": {
        "colab": {
          "base_uri": "https://localhost:8080/"
        },
        "id": "3I6BcCbk70Bk",
        "outputId": "f44712ff-4760-488c-b720-25ef72812641"
      },
      "execution_count": null,
      "outputs": [
        {
          "output_type": "execute_result",
          "data": {
            "text/plain": [
              "<tf.Tensor: shape=(3,), dtype=int32, numpy=array([25, 51,  6], dtype=int32)>"
            ]
          },
          "metadata": {},
          "execution_count": 8
        }
      ]
    },
    {
      "cell_type": "code",
      "source": [
        "#  similiarly for a column\n",
        "subcol_tensor = tensor_2D[:, 1]\n",
        "subcol_tensor"
      ],
      "metadata": {
        "colab": {
          "base_uri": "https://localhost:8080/"
        },
        "id": "R8gkB-EW8Mgs",
        "outputId": "742693e7-0fb2-4f74-f2dd-b6b351483f88"
      },
      "execution_count": null,
      "outputs": [
        {
          "output_type": "execute_result",
          "data": {
            "text/plain": [
              "<tf.Tensor: shape=(4,), dtype=int32, numpy=array([51,  6, 51, 22], dtype=int32)>"
            ]
          },
          "metadata": {},
          "execution_count": 9
        }
      ]
    },
    {
      "cell_type": "code",
      "source": [
        "# another way to select an entire row/col is to use three dots ...\n",
        "subcol_tensor = tensor_2D[...,1]\n",
        "subcol_tensor"
      ],
      "metadata": {
        "colab": {
          "base_uri": "https://localhost:8080/"
        },
        "id": "AsaYt6Zg8Z_F",
        "outputId": "cdab1423-640b-4b82-c9f2-2c73491ebb9a"
      },
      "execution_count": null,
      "outputs": [
        {
          "output_type": "execute_result",
          "data": {
            "text/plain": [
              "<tf.Tensor: shape=(4,), dtype=int32, numpy=array([51,  6, 51, 22], dtype=int32)>"
            ]
          },
          "metadata": {},
          "execution_count": 10
        }
      ]
    },
    {
      "cell_type": "code",
      "source": [
        "# indicies with 3d tensors\n",
        "tensor_3D = tf.random.uniform([4,2,3], minval=0, maxval=100, dtype=tf.int32)\n",
        "tensor_3D"
      ],
      "metadata": {
        "colab": {
          "base_uri": "https://localhost:8080/"
        },
        "id": "gaUw9x3R84y4",
        "outputId": "c1475d4a-4a6f-4883-c62b-66b33ab9de0a"
      },
      "execution_count": null,
      "outputs": [
        {
          "output_type": "execute_result",
          "data": {
            "text/plain": [
              "<tf.Tensor: shape=(4, 2, 3), dtype=int32, numpy=\n",
              "array([[[17, 35, 64],\n",
              "        [85, 91, 77]],\n",
              "\n",
              "       [[18, 27, 87],\n",
              "        [25, 26, 64]],\n",
              "\n",
              "       [[14, 90, 10],\n",
              "        [79, 42, 17]],\n",
              "\n",
              "       [[ 2, 47, 76],\n",
              "        [70, 48, 95]]], dtype=int32)>"
            ]
          },
          "metadata": {},
          "execution_count": 11
        }
      ]
    },
    {
      "cell_type": "code",
      "source": [
        "# in essence the selection is the same, however there are now 3 selections to specify\n",
        "subtensor_3D = tensor_3D[0:2, :, 0:2]\n",
        "subtensor_3D"
      ],
      "metadata": {
        "colab": {
          "base_uri": "https://localhost:8080/"
        },
        "id": "Ux-HKexF9oy7",
        "outputId": "4f545f45-ec0e-45a0-d2d7-4b5bd862ec74"
      },
      "execution_count": null,
      "outputs": [
        {
          "output_type": "execute_result",
          "data": {
            "text/plain": [
              "<tf.Tensor: shape=(2, 2, 2), dtype=int32, numpy=\n",
              "array([[[17, 35],\n",
              "        [85, 91]],\n",
              "\n",
              "       [[18, 27],\n",
              "        [25, 26]]], dtype=int32)>"
            ]
          },
          "metadata": {},
          "execution_count": 12
        }
      ]
    },
    {
      "cell_type": "code",
      "source": [
        "# the same type of three dot selection works\n",
        "subtensor_3D = tensor_3D[:,...,1]\n",
        "subtensor_3D"
      ],
      "metadata": {
        "colab": {
          "base_uri": "https://localhost:8080/"
        },
        "id": "mrj1PTfX97xw",
        "outputId": "f3c78c35-02c2-49b1-c085-5059570984c7"
      },
      "execution_count": null,
      "outputs": [
        {
          "output_type": "execute_result",
          "data": {
            "text/plain": [
              "<tf.Tensor: shape=(4, 2), dtype=int32, numpy=\n",
              "array([[35, 91],\n",
              "       [27, 26],\n",
              "       [90, 42],\n",
              "       [47, 48]], dtype=int32)>"
            ]
          },
          "metadata": {},
          "execution_count": 13
        }
      ]
    },
    {
      "cell_type": "code",
      "source": [
        "# lets start exploring some basic math functions\n",
        "# start with abs function\n",
        "# this simply turns all values into postive values\n",
        "tensor_abs = tf.abs(tensor_2D)\n",
        "print(tensor_2D)\n",
        "print(tensor_abs)"
      ],
      "metadata": {
        "colab": {
          "base_uri": "https://localhost:8080/"
        },
        "id": "ERWAMc_sAPJT",
        "outputId": "effa59e8-8879-4e40-b7a5-1c493d6b61b6"
      },
      "execution_count": null,
      "outputs": [
        {
          "output_type": "stream",
          "name": "stdout",
          "text": [
            "tf.Tensor(\n",
            "[[ 96 -60  24]\n",
            " [ 91  39 -67]\n",
            " [-70 -97 -78]\n",
            " [ 65  64  57]], shape=(4, 3), dtype=int32)\n",
            "tf.Tensor(\n",
            "[[96 60 24]\n",
            " [91 39 67]\n",
            " [70 97 78]\n",
            " [65 64 57]], shape=(4, 3), dtype=int32)\n"
          ]
        }
      ]
    },
    {
      "cell_type": "code",
      "source": [
        "# abs value will also turn complex numbers into a noncomplex number\n",
        "# return the magnitude of the complex number\n",
        "complex_abs = tf.abs(tf.constant([4+3j]))\n",
        "print(complex_abs)"
      ],
      "metadata": {
        "colab": {
          "base_uri": "https://localhost:8080/"
        },
        "id": "UUcl7P1omWzL",
        "outputId": "0d763359-9458-4114-8b67-ded598967577"
      },
      "execution_count": null,
      "outputs": [
        {
          "output_type": "stream",
          "name": "stdout",
          "text": [
            "tf.Tensor([5.], shape=(1,), dtype=float64)\n"
          ]
        }
      ]
    },
    {
      "cell_type": "code",
      "source": [
        "# addition function wil perform element wise addition\n",
        "tensor1 = tf.constant([1,2,3,4])\n",
        "tensor2 = tf.constant([5,6,7,8])\n",
        "tensor_sum = tf.add(tensor1, tensor2)\n",
        "print(tensor_sum)\n",
        "# division\n",
        "print(tf.divide(tensor2, tensor1))\n",
        "# there is multiplication as well"
      ],
      "metadata": {
        "colab": {
          "base_uri": "https://localhost:8080/"
        },
        "id": "w_ALIu3pm_cs",
        "outputId": "b0d58348-29ea-45cd-dd45-3ea7f5453c6e"
      },
      "execution_count": null,
      "outputs": [
        {
          "output_type": "stream",
          "name": "stdout",
          "text": [
            "tf.Tensor([ 6  8 10 12], shape=(4,), dtype=int32)\n",
            "tf.Tensor([5.         3.         2.33333333 2.        ], shape=(4,), dtype=float64)\n"
          ]
        }
      ]
    },
    {
      "cell_type": "code",
      "source": [
        "# divide no Nan, which will turn infinity into 0\n",
        "tensor1 = tf.constant([1,2,3,0])\n",
        "tensor2 = tf.constant([5,6,7,8])\n",
        "# regulare divide will return inf\n",
        "print(tf.divide(tensor2, tensor1))\n",
        "print(tf.math.divide_no_nan(tensor2, tensor1))"
      ],
      "metadata": {
        "colab": {
          "base_uri": "https://localhost:8080/"
        },
        "id": "5B1u3PBCneTt",
        "outputId": "d2db9763-45bc-46d1-f85d-11999afb2bd8"
      },
      "execution_count": null,
      "outputs": [
        {
          "output_type": "stream",
          "name": "stdout",
          "text": [
            "tf.Tensor([5.         3.         2.33333333        inf], shape=(4,), dtype=float64)\n",
            "tf.Tensor([5.         3.         2.33333333 0.        ], shape=(4,), dtype=float64)\n"
          ]
        }
      ]
    },
    {
      "cell_type": "code",
      "source": [
        "# when dividing shapes must be compatable\n",
        "tensor3 = tf.constant([4])\n",
        "tensor3_stretched = tf.constant([4,4,4,4])\n",
        "print(tf.divide(tensor1, tensor3))\n",
        "print(tf.divide(tensor1, tensor3_stretched))\n",
        "tensor4 = tf.constant([2,4])\n",
        "tensor5 = tf.constant([[2,1], [4,5]])\n",
        "print(tf.divide(tensor5, tensor4))"
      ],
      "metadata": {
        "colab": {
          "base_uri": "https://localhost:8080/"
        },
        "id": "aJoTaqQxoBbI",
        "outputId": "9e6983d9-677c-4f2f-c5f8-c6fe3ad8e23a"
      },
      "execution_count": null,
      "outputs": [
        {
          "output_type": "stream",
          "name": "stdout",
          "text": [
            "tf.Tensor([0.25 0.5  0.75 0.  ], shape=(4,), dtype=float64)\n",
            "tf.Tensor([0.25 0.5  0.75 0.  ], shape=(4,), dtype=float64)\n",
            "tf.Tensor(\n",
            "[[1.   0.25]\n",
            " [2.   1.25]], shape=(2, 2), dtype=float64)\n"
          ]
        }
      ]
    },
    {
      "cell_type": "code",
      "source": [
        "# what is happening is tf is broadcasting the smaller tensor\n",
        "# stretching it out in a way that makes sense\n",
        "tensor = tf.constant([[3],[4],[5]])\n",
        "tensor2 = tf.constant([1,1,1])\n",
        "multiplied = tf.multiply(tensor2, tensor)\n",
        "print(multiplied)\n",
        "print(tensor.shape)\n",
        "print(tensor2.shape)\n",
        "print(multiplied.shape)"
      ],
      "metadata": {
        "colab": {
          "base_uri": "https://localhost:8080/"
        },
        "id": "Tp-mvoDgoghk",
        "outputId": "3d68e5ac-6927-423d-a35e-740a7558bbab"
      },
      "execution_count": null,
      "outputs": [
        {
          "output_type": "stream",
          "name": "stdout",
          "text": [
            "tf.Tensor(\n",
            "[[3 3 3]\n",
            " [4 4 4]\n",
            " [5 5 5]], shape=(3, 3), dtype=int32)\n",
            "(3, 1)\n",
            "(3,)\n",
            "(3, 3)\n"
          ]
        }
      ]
    },
    {
      "cell_type": "code",
      "source": [
        "# maiximum, which will also broadcast\n",
        "print(tf.math.maximum(tensor, tensor2))"
      ],
      "metadata": {
        "colab": {
          "base_uri": "https://localhost:8080/"
        },
        "id": "mKFK1e_Ypsfe",
        "outputId": "5535ddda-06b3-42a7-9908-f49c032d87f2"
      },
      "execution_count": null,
      "outputs": [
        {
          "output_type": "stream",
          "name": "stdout",
          "text": [
            "tf.Tensor(\n",
            "[[3 3 3]\n",
            " [4 4 4]\n",
            " [5 5 5]], shape=(3, 3), dtype=int32)\n"
          ]
        }
      ]
    },
    {
      "cell_type": "code",
      "source": [
        "# argmax, return the index of the max argument along an axis\n",
        "tensor = tf.constant([[ 96, -60,  24],\n",
        "                      [ 91,  39, -67],\n",
        "                      [-70, -97, -78],\n",
        "                      [ 65,  64,  57]])\n",
        "print(tensor.shape)\n",
        "# this is not very intuitive\n",
        "# it works a little backwards to how i would think of it\n",
        "# perhaps think of it like 0 means we want a row that contains the index of max value in each row\n",
        "# along columns:\n",
        "argmax = tf.math.argmax(tensor, 0)\n",
        "print(argmax)\n",
        "# along rows:\n",
        "argmax = tf.math.argmax(tensor, 1)\n",
        "print(argmax)"
      ],
      "metadata": {
        "colab": {
          "base_uri": "https://localhost:8080/"
        },
        "id": "9lxQoD5KqZyf",
        "outputId": "7facbfd9-1c64-44e8-86e9-4ebc62c33acf"
      },
      "execution_count": null,
      "outputs": [
        {
          "output_type": "stream",
          "name": "stdout",
          "text": [
            "(4, 3)\n",
            "tf.Tensor([0 3 3], shape=(3,), dtype=int64)\n",
            "tf.Tensor([0 0 0 0], shape=(4,), dtype=int64)\n"
          ]
        }
      ]
    },
    {
      "cell_type": "code",
      "source": [
        "# when working on higher dimensional arrays, it gets a little more complicated\n",
        "# for instance in a 3 dimensional array,\n",
        "# arg max on 1 will give back a array with a array of max index in each row\n",
        "tensor = tf.constant([[[2,32,2],\n",
        "                       [9,2,20]],\n",
        "                      [[1,1,1],\n",
        "                       [21,1,9]],\n",
        "                      [[1,1,1],\n",
        "                       [21,1,90]]])\n",
        "print(tensor.shape)\n",
        "print(tf.argmax(tensor, 1))"
      ],
      "metadata": {
        "colab": {
          "base_uri": "https://localhost:8080/"
        },
        "id": "g-Gr-PJzrEBV",
        "outputId": "f4a9849f-02b9-40d8-a952-1d0f3950ac0f"
      },
      "execution_count": null,
      "outputs": [
        {
          "output_type": "stream",
          "name": "stdout",
          "text": [
            "(3, 2, 3)\n",
            "tf.Tensor(\n",
            "[[1 0 1]\n",
            " [1 0 1]\n",
            " [1 0 1]], shape=(3, 3), dtype=int64)\n"
          ]
        }
      ]
    },
    {
      "cell_type": "code",
      "source": [
        "# equal method which checks if the values are the same element wise in each tensor\n",
        "tensor1 = tf.constant([2,4])\n",
        "tensor2 = tf.constant([2,5])\n",
        "print(tf.math.equal(tensor1, tensor2))"
      ],
      "metadata": {
        "colab": {
          "base_uri": "https://localhost:8080/"
        },
        "id": "k80jyomds5Lt",
        "outputId": "1f1d8724-46e1-447a-a559-1a2401299581"
      },
      "execution_count": null,
      "outputs": [
        {
          "output_type": "stream",
          "name": "stdout",
          "text": [
            "tf.Tensor([ True False], shape=(2,), dtype=bool)\n"
          ]
        }
      ]
    },
    {
      "cell_type": "code",
      "source": [
        "# raise each element in the tensor to a power element wise\n",
        "print(tf.pow(tensor1, 2))\n",
        "# works on tensors as well, raising each elemnt in t1 to each element at the same index in t2\n",
        "print(tf.math.pow(tensor1, tensor2))"
      ],
      "metadata": {
        "colab": {
          "base_uri": "https://localhost:8080/"
        },
        "id": "wujl4CMhuDQd",
        "outputId": "a3ac6924-82cb-4651-b238-e8cc0dae4192"
      },
      "execution_count": null,
      "outputs": [
        {
          "output_type": "stream",
          "name": "stdout",
          "text": [
            "tf.Tensor([ 4 16], shape=(2,), dtype=int32)\n",
            "tf.Tensor([   4 1024], shape=(2,), dtype=int32)\n"
          ]
        }
      ]
    },
    {
      "cell_type": "code",
      "source": [
        "# reduce sum takes a tensor and a computes the sum of elements along an axis\n",
        "print(tensor)\n",
        "print(tf.reduce_sum(tensor, 0))\n",
        "# if no axis, the sum of all elements is returned\n",
        "print(tf.reduce_sum(tensor))"
      ],
      "metadata": {
        "colab": {
          "base_uri": "https://localhost:8080/"
        },
        "id": "lVD7JzFauRbF",
        "outputId": "e185e336-03ff-412c-f53b-32e2f79ce4af"
      },
      "execution_count": null,
      "outputs": [
        {
          "output_type": "stream",
          "name": "stdout",
          "text": [
            "tf.Tensor(\n",
            "[[[ 2 32  2]\n",
            "  [ 9  2 20]]\n",
            "\n",
            " [[ 1  1  1]\n",
            "  [21  1  9]]\n",
            "\n",
            " [[ 1  1  1]\n",
            "  [21  1 90]]], shape=(3, 2, 3), dtype=int32)\n",
            "tf.Tensor(\n",
            "[[  4  34   4]\n",
            " [ 51   4 119]], shape=(2, 3), dtype=int32)\n",
            "tf.Tensor(216, shape=(), dtype=int32)\n"
          ]
        }
      ]
    },
    {
      "cell_type": "code",
      "source": [
        "# reduce max will return the actual max values\n",
        "tensor = tf.constant([[ 96, -60,  24],\n",
        "                      [ 91,  39, -67],\n",
        "                      [-70, -97, -78],\n",
        "                      [ 65,  64,  57]], dtype=tf.float32)\n",
        "print(tf.math.reduce_max(tensor))\n",
        "print(tf.math.reduce_max(tensor, 0))\n",
        "# calculate the mean\n",
        "print(tf.math.reduce_mean(tensor, 0))"
      ],
      "metadata": {
        "id": "cucRbegIu4rk",
        "colab": {
          "base_uri": "https://localhost:8080/"
        },
        "outputId": "5c5e19b6-a168-42c2-98e5-39b56208c16a"
      },
      "execution_count": 68,
      "outputs": [
        {
          "output_type": "stream",
          "name": "stdout",
          "text": [
            "tf.Tensor(96.0, shape=(), dtype=float32)\n",
            "tf.Tensor([96. 64. 57.], shape=(3,), dtype=float32)\n",
            "tf.Tensor([ 45.5 -13.5 -16. ], shape=(3,), dtype=float32)\n"
          ]
        }
      ]
    },
    {
      "cell_type": "code",
      "source": [
        "# calculating the sigmoid function:\n",
        "# sigmoid(x) = 1 / 1 + exp(-x)\n",
        "tensor = tf.constant([0,0],dtype=tf.float32)\n",
        "print(tf.math.sigmoid(tensor))"
      ],
      "metadata": {
        "colab": {
          "base_uri": "https://localhost:8080/"
        },
        "id": "_6Mhy7k836WO",
        "outputId": "69965cdf-c452-4d37-ecd6-9e964744b0c9"
      },
      "execution_count": 71,
      "outputs": [
        {
          "output_type": "stream",
          "name": "stdout",
          "text": [
            "tf.Tensor([0.5 0.5], shape=(2,), dtype=float32)\n"
          ]
        }
      ]
    },
    {
      "cell_type": "code",
      "source": [
        "# top k returns the top k values along an axis\n",
        "# ot returns an arrays of values and indices\n",
        "tensor = tf.constant([[1,2,3],\n",
        "                      [5,6,7]])\n",
        "print(tf.math.top_k(tensor, k=2))"
      ],
      "metadata": {
        "colab": {
          "base_uri": "https://localhost:8080/"
        },
        "id": "_NjRh8uQ6ICi",
        "outputId": "2d471cc9-9054-457c-fd9e-5978436c118d"
      },
      "execution_count": 73,
      "outputs": [
        {
          "output_type": "stream",
          "name": "stdout",
          "text": [
            "TopKV2(values=<tf.Tensor: shape=(2, 2), dtype=int32, numpy=\n",
            "array([[3, 2],\n",
            "       [7, 6]], dtype=int32)>, indices=<tf.Tensor: shape=(2, 2), dtype=int32, numpy=\n",
            "array([[2, 1],\n",
            "       [2, 1]], dtype=int32)>)\n"
          ]
        }
      ]
    },
    {
      "cell_type": "code",
      "source": [
        "# explores some linear algebra operation\n",
        "# the first of them is math mul\n",
        "# this is dufferent then tf.mul which was element wise\n",
        "mat1 = tf.constant([[1,1,1],\n",
        "                    [1,1,1]])\n",
        "mat2 = tf.constant([[2,4,3],\n",
        "                    [1,1,1]])\n",
        "print(tf.linalg.matmul(mat1, mat2, transpose_b=True))\n",
        "# there is also adjoint parameter, to tell linal.matmul if we are multiplying the adjoint"
      ],
      "metadata": {
        "colab": {
          "base_uri": "https://localhost:8080/"
        },
        "id": "Rgd3K4SB6j6c",
        "outputId": "a963271f-f5d1-421c-919e-286d16f0b5b0"
      },
      "execution_count": 77,
      "outputs": [
        {
          "output_type": "stream",
          "name": "stdout",
          "text": [
            "tf.Tensor(\n",
            "[[9 3]\n",
            " [9 3]], shape=(2, 2), dtype=int32)\n"
          ]
        }
      ]
    },
    {
      "cell_type": "code",
      "source": [
        "# another way to compute matrix mul is @\n",
        "print(mat1@tf.transpose(mat2))"
      ],
      "metadata": {
        "colab": {
          "base_uri": "https://localhost:8080/"
        },
        "id": "EMfdp2oZ7n1l",
        "outputId": "0f727870-9c81-4d75-f626-c67f0dc91c46"
      },
      "execution_count": 80,
      "outputs": [
        {
          "output_type": "stream",
          "name": "stdout",
          "text": [
            "tf.Tensor(\n",
            "[[9 3]\n",
            " [9 3]], shape=(2, 2), dtype=int32)\n"
          ]
        }
      ]
    },
    {
      "cell_type": "code",
      "source": [
        "# how to multiply higher dimension matrices?\n",
        "tensor1 = tf.constant([[[2,32],\n",
        "                       [9,2]],\n",
        "                      [[1,1],\n",
        "                       [21,1]],\n",
        "                      [[1,1],\n",
        "                       [21,1]]])\n",
        "tensor2 = tf.constant([[[2,32,2],\n",
        "                       [9,2,20]],\n",
        "                      [[1,1,1],\n",
        "                       [21,1,9]],\n",
        "                      [[1,1,1],\n",
        "                       [21,1,90]]])\n",
        "# when multipling higher dimension it goes batch wise\n",
        "# i.e. the first matrix in the first tensor multiplies the first in the second\n",
        "# and so forth\n",
        "print(tf.linalg.matmul(tensor1, tensor2))"
      ],
      "metadata": {
        "colab": {
          "base_uri": "https://localhost:8080/"
        },
        "id": "2v5F3wqx9ECJ",
        "outputId": "e510dc4a-bd61-4562-b4ba-57306a1a0d2f"
      },
      "execution_count": 82,
      "outputs": [
        {
          "output_type": "stream",
          "name": "stdout",
          "text": [
            "tf.Tensor(\n",
            "[[[292 128 644]\n",
            "  [ 36 292  58]]\n",
            "\n",
            " [[ 22   2  10]\n",
            "  [ 42  22  30]]\n",
            "\n",
            " [[ 22   2  91]\n",
            "  [ 42  22 111]]], shape=(3, 2, 3), dtype=int32)\n"
          ]
        }
      ]
    },
    {
      "cell_type": "code",
      "source": [
        "# we can also broadcast as well\n",
        "tensor1 = tf.constant([[[2,1],\n",
        "                       [9,2]]])\n",
        "print(tf.linalg.matmul(tensor1, tensor2))"
      ],
      "metadata": {
        "colab": {
          "base_uri": "https://localhost:8080/"
        },
        "id": "aeMpZx3VAEC-",
        "outputId": "a71a2fe5-e888-461f-bf3a-00344b499db0"
      },
      "execution_count": 84,
      "outputs": [
        {
          "output_type": "stream",
          "name": "stdout",
          "text": [
            "tf.Tensor(\n",
            "[[[ 13  66  24]\n",
            "  [ 36 292  58]]\n",
            "\n",
            " [[ 23   3  11]\n",
            "  [ 51  11  27]]\n",
            "\n",
            " [[ 23   3  92]\n",
            "  [ 51  11 189]]], shape=(3, 2, 3), dtype=int32)\n"
          ]
        }
      ]
    },
    {
      "cell_type": "code",
      "source": [
        "# if your matrix is sparse, specify that in the argument\n",
        "# this will allow for optimization\n",
        "# you can also calculate the adjoint very easily\n",
        "# band part, which is a indicator funtion that works elemtn wise\n",
        "# S.T. if the condition is not meant, the elemnt is zerod\n",
        "#  condition: (lower < 0 or m-n <= lower) and (upper < 0 or n-m <= upper)\n",
        "# where m is row and n is column and upper and lower are arguments\n",
        "# this creates a band matrix\n",
        "# special cases:\n",
        "# Diagonal: upper,lower = 0,0\n",
        "# Upper: upper,lower = 0,-1\n",
        "# Lower: upper,lower = -1,0"
      ],
      "metadata": {
        "id": "g5KkAgDkAkCY"
      },
      "execution_count": null,
      "outputs": []
    },
    {
      "cell_type": "code",
      "source": [
        "tensor = tf.constant([[ 96, -60,  24],\n",
        "                      [ 91,  39, -67],\n",
        "                      [-70, -97, -78]], dtype=tf.float32)\n",
        "print(tf.linalg.band_part(tensor, 0, 0))\n",
        "print(tf.linalg.band_part(tensor, 0, -1))\n",
        "print(tf.linalg.band_part(tensor, -1, 0))"
      ],
      "metadata": {
        "colab": {
          "base_uri": "https://localhost:8080/"
        },
        "id": "6X4QLT6FI-J4",
        "outputId": "14f53bf3-30cf-480e-feed-265d61c853e0"
      },
      "execution_count": 5,
      "outputs": [
        {
          "output_type": "stream",
          "name": "stdout",
          "text": [
            "tf.Tensor(\n",
            "[[ 96.   0.   0.]\n",
            " [  0.  39.   0.]\n",
            " [  0.   0. -78.]], shape=(3, 3), dtype=float32)\n",
            "tf.Tensor(\n",
            "[[ 96. -60.  24.]\n",
            " [  0.  39. -67.]\n",
            " [  0.   0. -78.]], shape=(3, 3), dtype=float32)\n",
            "tf.Tensor(\n",
            "[[ 96.   0.   0.]\n",
            " [ 91.  39.   0.]\n",
            " [-70. -97. -78.]], shape=(3, 3), dtype=float32)\n"
          ]
        }
      ]
    },
    {
      "cell_type": "code",
      "source": [
        "# there are many important and interesting methods\n",
        "# inverses, cross product, determinant, decompositions, trace etc.."
      ],
      "metadata": {
        "id": "GqFV7rlbJH68"
      },
      "execution_count": null,
      "outputs": []
    },
    {
      "cell_type": "code",
      "source": [
        "# let us examine the einsum operator\n",
        "# first let us look at regular matrix multiplication\n",
        "import numpy as np\n",
        "A = np.array([[2,6,5,2],\n",
        "              [2,-2,2,3],\n",
        "              [1,5,4,0]])\n",
        "B = np.array([[2,9,0,3,0],\n",
        "              [3,6,8,-2,2],\n",
        "              [1,3,5,0,1],\n",
        "              [3,0,2,0,5]])\n",
        "# notice that A is of shape 3,4 and B 4,5\n",
        "# TF we can multiply them\n",
        "print(A.shape)\n",
        "print(B.shape)\n",
        "print('Matml C:')\n",
        "print(np.matmul(A,B))"
      ],
      "metadata": {
        "colab": {
          "base_uri": "https://localhost:8080/"
        },
        "id": "YYvNfYQVLI_p",
        "outputId": "fdd1b56e-eea4-4193-c1fe-9e355d33e15d"
      },
      "execution_count": 8,
      "outputs": [
        {
          "output_type": "stream",
          "name": "stdout",
          "text": [
            "(3, 4)\n",
            "(4, 5)\n",
            "Matml C:\n",
            "[[33 69 77 -6 27]\n",
            " [ 9 12  0 10 13]\n",
            " [21 51 60 -7 14]]\n"
          ]
        }
      ]
    },
    {
      "cell_type": "code",
      "source": [
        "# how can we replace this with einsum?\n",
        "print('Einsum C')\n",
        "# here we tell the operator that we are taking a matrix of shape ij (3,4)\n",
        "# and another of shape jk (4,5), and we want an output of ik (3,5)\n",
        "print(np.einsum(\"ij,jk -> ik\", A,B))\n",
        "# the result is the same, however, the einsum operator can be much easier to handle"
      ],
      "metadata": {
        "colab": {
          "base_uri": "https://localhost:8080/"
        },
        "id": "LI_OOCP3MGP6",
        "outputId": "b91f10a2-1166-42f4-c0be-44f836c426a4"
      },
      "execution_count": 9,
      "outputs": [
        {
          "output_type": "stream",
          "name": "stdout",
          "text": [
            "Einsum C\n",
            "[[33 69 77 -6 27]\n",
            " [ 9 12  0 10 13]\n",
            " [21 51 60 -7 14]]\n"
          ]
        }
      ]
    },
    {
      "cell_type": "code",
      "source": [
        "# we can alos use the einsum operator to perform element wise multiplication\n",
        "# the matrices must be the same size for this\n",
        "A = np.array([[2,6,5,2],\n",
        "              [2,-2,2,3],\n",
        "              [1,5,4,0]])\n",
        "B = np.array([[2,9,0,3],\n",
        "              [3,6,8,-2],\n",
        "              [1,3,5,0]])\n",
        "# notice that A is of shape 3,4 and B 4,5\n",
        "# TF we can multiply them\n",
        "print(A.shape)\n",
        "print(B.shape)\n",
        "print('Hardamond C:')\n",
        "print(np.einsum(\"ij,ij -> ij\", A,B))\n",
        "print('notice it is the same as element wise multiplication')\n",
        "print(A*B)"
      ],
      "metadata": {
        "colab": {
          "base_uri": "https://localhost:8080/"
        },
        "id": "0VwKD_OgMxwL",
        "outputId": "d41d0850-212e-4e7e-8d60-85a779aa4f0d"
      },
      "execution_count": 13,
      "outputs": [
        {
          "output_type": "stream",
          "name": "stdout",
          "text": [
            "(3, 4)\n",
            "(3, 4)\n",
            "Hardamond C:\n",
            "[[  4  54   0   6]\n",
            " [  6 -12  16  -6]\n",
            " [  1  15  20   0]]\n",
            "notice it is the same as element wise multiplication|\n",
            "[[  4  54   0   6]\n",
            " [  6 -12  16  -6]\n",
            " [  1  15  20   0]]\n"
          ]
        }
      ]
    },
    {
      "cell_type": "code",
      "source": [
        "# transpose with einsum\n",
        "A = np.array([[2,6,5,2],\n",
        "              [2,-2,2,3],\n",
        "              [1,5,4,0]])\n",
        "print(np.einsum(\"ij->ji\", A))\n",
        "# the einsum is the same in tf"
      ],
      "metadata": {
        "colab": {
          "base_uri": "https://localhost:8080/"
        },
        "id": "gTcT_l7mNY8M",
        "outputId": "3d6e1ef6-6fbe-4076-9d09-f17451e994bb"
      },
      "execution_count": 15,
      "outputs": [
        {
          "output_type": "stream",
          "name": "stdout",
          "text": [
            "[[ 2  2  1]\n",
            " [ 6 -2  5]\n",
            " [ 5  2  4]\n",
            " [ 2  3  0]]\n"
          ]
        }
      ]
    },
    {
      "cell_type": "code",
      "source": [
        "# working with 3D arrays\n",
        "# usually, high dimension multiplication is done 'element wise'\n",
        "# for instance, if you have a (2,3,4) array, and a (2,4,3) array,\n",
        "# the first element in the first array will mutliply the first in the second\n",
        "# and the second element in the second element will multiple the second in the second\n",
        "# remeber that broadcasting can be done\n",
        "A = tf.random.uniform([2,3,4], minval=0, maxval=20, dtype=tf.int32)\n",
        "print(A)\n",
        "B = tf.random.uniform([2,4,4], minval=0, maxval=20, dtype=tf.int32)\n",
        "print(B)\n",
        "print(A.shape, B.shape)"
      ],
      "metadata": {
        "colab": {
          "base_uri": "https://localhost:8080/"
        },
        "id": "mri8Ti0DN6fT",
        "outputId": "b2aa64e8-3c4e-4829-f752-0f9fc4f537d0"
      },
      "execution_count": 19,
      "outputs": [
        {
          "output_type": "stream",
          "name": "stdout",
          "text": [
            "tf.Tensor(\n",
            "[[[ 8  6  4  6]\n",
            "  [ 3 14 19  4]\n",
            "  [ 2 14  9  0]]\n",
            "\n",
            " [[10 10  3  8]\n",
            "  [19  0 17  0]\n",
            "  [ 7 18  1 18]]], shape=(2, 3, 4), dtype=int32)\n",
            "tf.Tensor(\n",
            "[[[ 6 16  5 14]\n",
            "  [14 11 17 11]\n",
            "  [18  2 18  5]\n",
            "  [12 12 19 14]]\n",
            "\n",
            " [[ 3  6 17 16]\n",
            "  [ 5 11 16 15]\n",
            "  [19 19 10  6]\n",
            "  [16 11  0 16]]], shape=(2, 4, 4), dtype=int32)\n",
            "(2, 3, 4) (2, 4, 4)\n"
          ]
        }
      ]
    },
    {
      "cell_type": "code",
      "source": [
        "# regular matrix multiplication and einsum are again the same\n",
        "print('Batch multiplication')\n",
        "print(np.matmul(A,B))\n",
        "print('einsum')\n",
        "print(np.einsum('bij,bjk -> bik',A,B))"
      ],
      "metadata": {
        "colab": {
          "base_uri": "https://localhost:8080/"
        },
        "id": "IPleRzoSPAW_",
        "outputId": "c538680e-2de3-45a7-a905-ab40fedc1bd2"
      },
      "execution_count": 20,
      "outputs": [
        {
          "output_type": "stream",
          "name": "stdout",
          "text": [
            "Batch multiplication\n",
            "[[[276 274 328 282]\n",
            "  [604 288 671 347]\n",
            "  [370 204 410 227]]\n",
            "\n",
            " [[265 315 360 456]\n",
            "  [380 437 493 406]\n",
            "  [418 457 417 676]]]\n",
            "einsum\n",
            "[[[276 274 328 282]\n",
            "  [604 288 671 347]\n",
            "  [370 204 410 227]]\n",
            "\n",
            " [[265 315 360 456]\n",
            "  [380 437 493 406]\n",
            "  [418 457 417 676]]]\n"
          ]
        }
      ]
    },
    {
      "cell_type": "code",
      "source": [
        "# using eisum to sum:\n",
        "A = np.array([[2,6,5,2],\n",
        "              [2,-2,2,3],\n",
        "              [1,5,4,0]])\n",
        "print(np.sum(A))\n",
        "print(np.einsum(\"ij->\", A))"
      ],
      "metadata": {
        "colab": {
          "base_uri": "https://localhost:8080/"
        },
        "id": "5gEuzHbbPyCZ",
        "outputId": "4b0a492d-94a0-48c8-9707-7b3fa0a2d1fc"
      },
      "execution_count": 23,
      "outputs": [
        {
          "output_type": "stream",
          "name": "stdout",
          "text": [
            "30\n",
            "30\n"
          ]
        }
      ]
    },
    {
      "cell_type": "code",
      "source": [
        "# sum along an axis:\n",
        "# along columns:\n",
        "print(np.sum(A,axis=0))\n",
        "print(np.einsum(\"ik -> k\",A))\n",
        "# along rows\n",
        "print(np.sum(A,axis=1))\n",
        "print(np.einsum(\"ik -> i\",A))"
      ],
      "metadata": {
        "colab": {
          "base_uri": "https://localhost:8080/"
        },
        "id": "bN9axK2VQFY1",
        "outputId": "bf48bb8a-ae24-417a-cf3f-0ddd769f8a7d"
      },
      "execution_count": 28,
      "outputs": [
        {
          "output_type": "stream",
          "name": "stdout",
          "text": [
            "[ 5  9 11  5]\n",
            "[ 5  9 11  5]\n",
            "[15  5 10]\n",
            "[15  5 10]\n"
          ]
        }
      ]
    },
    {
      "cell_type": "code",
      "source": [
        "# let us take a real like exampe\n",
        "# imagine a query and key,\n",
        "# with query of size batchsize, s_q, and modelsize bqm\n",
        "# with key of size batchsize, s_k, and modelsize bkm\n",
        "Q = np.random.randn(32, 64, 512)\n",
        "K = np.random.randn(32, 128, 512)"
      ],
      "metadata": {
        "id": "ivx5Jh8UQdq7"
      },
      "execution_count": 30,
      "outputs": []
    },
    {
      "cell_type": "code",
      "source": [
        "np.einsum('bqm,bkm -> bqk', Q,K).shape"
      ],
      "metadata": {
        "colab": {
          "base_uri": "https://localhost:8080/"
        },
        "id": "35n46OsdYmGt",
        "outputId": "22f9f59d-adcd-4589-b763-3389ad95328d"
      },
      "execution_count": 32,
      "outputs": [
        {
          "output_type": "execute_result",
          "data": {
            "text/plain": [
              "(32, 64, 128)"
            ]
          },
          "metadata": {},
          "execution_count": 32
        }
      ]
    },
    {
      "cell_type": "code",
      "source": [],
      "metadata": {
        "id": "VVKmgWDrYx56"
      },
      "execution_count": null,
      "outputs": []
    }
  ]
}