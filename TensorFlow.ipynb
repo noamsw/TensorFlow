{
  "nbformat": 4,
  "nbformat_minor": 0,
  "metadata": {
    "colab": {
      "provenance": [],
      "authorship_tag": "ABX9TyPN6Aer9uB9YvYZ5YzpgyIp",
      "include_colab_link": true
    },
    "kernelspec": {
      "name": "python3",
      "display_name": "Python 3"
    },
    "language_info": {
      "name": "python"
    }
  },
  "cells": [
    {
      "cell_type": "markdown",
      "metadata": {
        "id": "view-in-github",
        "colab_type": "text"
      },
      "source": [
        "<a href=\"https://colab.research.google.com/github/noamsw/TensorFlow/blob/main/TensorFlow.ipynb\" target=\"_parent\"><img src=\"https://colab.research.google.com/assets/colab-badge.svg\" alt=\"Open In Colab\"/></a>"
      ]
    },
    {
      "cell_type": "code",
      "execution_count": null,
      "metadata": {
        "id": "shNoqnWEtMn9"
      },
      "outputs": [],
      "source": [
        "import tensorflow as tf"
      ]
    },
    {
      "cell_type": "code",
      "source": [
        "#create a 0D tensor\n",
        "tensor_0D = tf.constant(4)\n",
        "print(tensor_0D)\n",
        "#notice that the tensor has no shape"
      ],
      "metadata": {
        "colab": {
          "base_uri": "https://localhost:8080/"
        },
        "id": "24TbyejSvDqU",
        "outputId": "1ce7db46-c2d9-466d-82bb-e5e75d811e95"
      },
      "execution_count": null,
      "outputs": [
        {
          "output_type": "stream",
          "name": "stdout",
          "text": [
            "tf.Tensor(4, shape=(), dtype=int32)\n"
          ]
        }
      ]
    },
    {
      "cell_type": "code",
      "source": [
        "#create a 1d tensor\n",
        "tensor_1D = tf.constant([2.0,0,-3])\n",
        "#notice how the tensor now has a shape\n",
        "#and the whole datatype is determined by a single float\n",
        "print(tensor_1D)"
      ],
      "metadata": {
        "colab": {
          "base_uri": "https://localhost:8080/"
        },
        "id": "e9MXu8yUvTrc",
        "outputId": "91d63e4d-0b73-46d0-9bc0-f9cb2308132a"
      },
      "execution_count": null,
      "outputs": [
        {
          "output_type": "stream",
          "name": "stdout",
          "text": [
            "tf.Tensor([ 2.  0. -3.], shape=(3,), dtype=float32)\n"
          ]
        }
      ]
    },
    {
      "cell_type": "code",
      "source": [
        "#create a 2D tensor\n",
        "tensor_2D = tf.constant([\n",
        "    [0,2,3],\n",
        "    [1,-9,3.0],\n",
        "])\n",
        "#again notice the dtype\n",
        "print(tensor_2D)"
      ],
      "metadata": {
        "colab": {
          "base_uri": "https://localhost:8080/"
        },
        "id": "XvUHar8ivnGF",
        "outputId": "9d079660-7e60-49c1-cffa-27049d9ce25b"
      },
      "execution_count": null,
      "outputs": [
        {
          "output_type": "stream",
          "name": "stdout",
          "text": [
            "tf.Tensor(\n",
            "[[ 0.  2.  3.]\n",
            " [ 1. -9.  3.]], shape=(2, 3), dtype=float32)\n"
          ]
        }
      ]
    },
    {
      "cell_type": "code",
      "source": [
        "#create a 3D tensor\n",
        "tensor_3D = tf.constant([\n",
        "    [[2,3],\n",
        "     [3,-1]],\n",
        "    [[7,4],\n",
        "     [12,-1]],\n",
        "    [[12,32],\n",
        "     [30,-1.0]],\n",
        "])\n",
        "print(tensor_3D)"
      ],
      "metadata": {
        "colab": {
          "base_uri": "https://localhost:8080/"
        },
        "id": "3yt8kiuJwBfz",
        "outputId": "3b7f3d09-0f77-46a1-f741-0bdc9866ecbb"
      },
      "execution_count": null,
      "outputs": [
        {
          "output_type": "stream",
          "name": "stdout",
          "text": [
            "tf.Tensor(\n",
            "[[[ 2.  3.]\n",
            "  [ 3. -1.]]\n",
            "\n",
            " [[ 7.  4.]\n",
            "  [12. -1.]]\n",
            "\n",
            " [[12. 32.]\n",
            "  [30. -1.]]], shape=(3, 2, 2), dtype=float32)\n"
          ]
        }
      ]
    },
    {
      "cell_type": "code",
      "source": [
        "#we can view only the shape:\n",
        "print(tensor_3D.shape)\n",
        "#or its num of dimensions:\n",
        "print(tensor_2D.ndim)"
      ],
      "metadata": {
        "colab": {
          "base_uri": "https://localhost:8080/"
        },
        "id": "wD_Ya7dbwqqq",
        "outputId": "d82ee63e-4602-42fd-8646-fab6c8f1e99c"
      },
      "execution_count": null,
      "outputs": [
        {
          "output_type": "stream",
          "name": "stdout",
          "text": [
            "(3, 2, 2)\n",
            "2\n"
          ]
        }
      ]
    },
    {
      "cell_type": "code",
      "source": [
        "#how do we constuct a 4D tensor?\n",
        "#this, like before, is simply several 3D tensors.\n",
        "#a good way of thinking of it, is time\n",
        "#imagine the 3D is a 3D representation of space\n",
        "#and the 4D is the same space through time"
      ],
      "metadata": {
        "id": "rA8Qysmsw4v8"
      },
      "execution_count": null,
      "outputs": []
    },
    {
      "cell_type": "code",
      "source": [
        "#create a 4D tensor\n",
        "tensor_4D = tf.constant([\n",
        "    [[[2,3],\n",
        "     [3,-1]],\n",
        "     [[-7,4],\n",
        "     [12,-1]],\n",
        "     [[12,32],\n",
        "     [360,-1.0]]],\n",
        "    [[[2,3],\n",
        "     [3,-1]],\n",
        "     [[7,4],\n",
        "     [12,-1]],\n",
        "     [[212,32],\n",
        "     [30,-1.0]]],\n",
        "    [[[2,3],\n",
        "     [32,-1]],\n",
        "     [[7,64],\n",
        "     [112,-1]],\n",
        "     [[12,32],\n",
        "     [30,-1.0]]],\n",
        "])\n",
        "print(tensor_4D)"
      ],
      "metadata": {
        "colab": {
          "base_uri": "https://localhost:8080/"
        },
        "id": "HRWOMW5GxhUj",
        "outputId": "b44b9de1-b445-4e4c-c8dd-5d35a7001dfc"
      },
      "execution_count": null,
      "outputs": [
        {
          "output_type": "stream",
          "name": "stdout",
          "text": [
            "tf.Tensor(\n",
            "[[[[  2.   3.]\n",
            "   [  3.  -1.]]\n",
            "\n",
            "  [[ -7.   4.]\n",
            "   [ 12.  -1.]]\n",
            "\n",
            "  [[ 12.  32.]\n",
            "   [360.  -1.]]]\n",
            "\n",
            "\n",
            " [[[  2.   3.]\n",
            "   [  3.  -1.]]\n",
            "\n",
            "  [[  7.   4.]\n",
            "   [ 12.  -1.]]\n",
            "\n",
            "  [[212.  32.]\n",
            "   [ 30.  -1.]]]\n",
            "\n",
            "\n",
            " [[[  2.   3.]\n",
            "   [ 32.  -1.]]\n",
            "\n",
            "  [[  7.  64.]\n",
            "   [112.  -1.]]\n",
            "\n",
            "  [[ 12.  32.]\n",
            "   [ 30.  -1.]]]], shape=(3, 3, 2, 2), dtype=float32)\n"
          ]
        }
      ]
    },
    {
      "cell_type": "code",
      "source": [
        "#Tensors are multidimensional\n",
        "#we can continue to add dimensions to the tensor as we go along\n",
        "#there is no real limit. It should be an excersise to the reader to decide what higher dimensions mean\n",
        "#for instance 5 dimensions may be the same space, during different times, in different experiments"
      ],
      "metadata": {
        "id": "Q85Pk-oKx4rr"
      },
      "execution_count": null,
      "outputs": []
    },
    {
      "cell_type": "code",
      "source": [
        "#we can choose the datatype of the tensor\n",
        "tensor_0D = tf.constant(4, dtype=tf.float32)\n",
        "print(tensor_0D)\n",
        "# the float type determine how much memory the tensor takes.\n",
        "#higher precision requires more memory\n",
        "#for memory constraints we would like to lower precision"
      ],
      "metadata": {
        "colab": {
          "base_uri": "https://localhost:8080/"
        },
        "id": "sKDnWwbyyWdC",
        "outputId": "5b7afa57-3fd8-4843-aebc-d4def9341d6a"
      },
      "execution_count": null,
      "outputs": [
        {
          "output_type": "stream",
          "name": "stdout",
          "text": [
            "tf.Tensor(4.0, shape=(), dtype=float32)\n"
          ]
        }
      ]
    },
    {
      "cell_type": "code",
      "source": [
        "# you can also cast a tensor to a different dtype\n",
        "casted_tensor = tf.cast(tensor_0D, dtype=tf.int64)\n",
        "binary_casted_tensor = tf.cast(tensor_0D, dtype=tf.bool)\n",
        "print(casted_tensor)\n",
        "print(binary_casted_tensor)\n"
      ],
      "metadata": {
        "colab": {
          "base_uri": "https://localhost:8080/"
        },
        "id": "8D8Qw0bWydeU",
        "outputId": "207294e2-8459-439e-9c4e-f8499ac57f40"
      },
      "execution_count": null,
      "outputs": [
        {
          "output_type": "stream",
          "name": "stdout",
          "text": [
            "tf.Tensor(4, shape=(), dtype=int64)\n",
            "tf.Tensor(True, shape=(), dtype=bool)\n"
          ]
        }
      ]
    },
    {
      "cell_type": "code",
      "source": [
        "# there are string tensors as well\n",
        "tensor_string = tf.constant([\"helloWorld\"], dtype=tf.string)\n",
        "print(tensor_string)"
      ],
      "metadata": {
        "colab": {
          "base_uri": "https://localhost:8080/"
        },
        "id": "4Cd_YD1V-gRW",
        "outputId": "f6d63a43-1284-4471-8bc5-af5620a31002"
      },
      "execution_count": null,
      "outputs": [
        {
          "output_type": "stream",
          "name": "stdout",
          "text": [
            "tf.Tensor([b'helloWorld'], shape=(1,), dtype=string)\n"
          ]
        }
      ]
    },
    {
      "cell_type": "code",
      "source": [
        "# converting numpy arrays to tensors:\n",
        "import numpy as np\n",
        "np_array = np.array([2,2,3])"
      ],
      "metadata": {
        "id": "EZacjEKM_Fgp"
      },
      "execution_count": null,
      "outputs": []
    },
    {
      "cell_type": "code",
      "source": [
        "converted_tensor = tf.convert_to_tensor(np_array)\n",
        "print(converted_tensor)"
      ],
      "metadata": {
        "colab": {
          "base_uri": "https://localhost:8080/"
        },
        "id": "0nFv5zZe_Q5L",
        "outputId": "8540ec92-b19c-4944-9f19-1ad61f56a6f5"
      },
      "execution_count": null,
      "outputs": [
        {
          "output_type": "stream",
          "name": "stdout",
          "text": [
            "tf.Tensor([2 2 3], shape=(3,), dtype=int64)\n"
          ]
        }
      ]
    },
    {
      "cell_type": "code",
      "source": [
        "# creating an identity tensor\n",
        "eye_tensor = tf.eye(num_rows=3, num_columns=4)\n",
        "print(eye_tensor)"
      ],
      "metadata": {
        "colab": {
          "base_uri": "https://localhost:8080/"
        },
        "id": "MOmpL316_Yij",
        "outputId": "d561ec53-6aaf-4c98-a12b-e82940980adb"
      },
      "execution_count": null,
      "outputs": [
        {
          "output_type": "stream",
          "name": "stdout",
          "text": [
            "tf.Tensor(\n",
            "[[1. 0. 0. 0.]\n",
            " [0. 1. 0. 0.]\n",
            " [0. 0. 1. 0.]], shape=(3, 4), dtype=float32)\n"
          ]
        }
      ]
    },
    {
      "cell_type": "code",
      "source": [
        "# you can mutliply tensor by a scaler:\n",
        "multiplied_tensor = 3 * eye_tensor\n",
        "print(multiplied_tensor)"
      ],
      "metadata": {
        "colab": {
          "base_uri": "https://localhost:8080/"
        },
        "id": "QZxOSlgM_rHl",
        "outputId": "f4ffc1ea-8e7a-4ab9-b754-e5ee05c3ec46"
      },
      "execution_count": null,
      "outputs": [
        {
          "output_type": "stream",
          "name": "stdout",
          "text": [
            "tf.Tensor(\n",
            "[[3. 0. 0. 0.]\n",
            " [0. 3. 0. 0.]\n",
            " [0. 0. 3. 0.]], shape=(3, 4), dtype=float32)\n"
          ]
        }
      ]
    },
    {
      "cell_type": "code",
      "source": [
        "# creating an identity tensor and using the batch shape\n",
        "eye_tensor = tf.eye(num_rows=3, batch_shape=[2,3,])\n",
        "print(eye_tensor)"
      ],
      "metadata": {
        "colab": {
          "base_uri": "https://localhost:8080/"
        },
        "id": "uH-dRSaw__od",
        "outputId": "f9d8f138-9a3e-400b-cb44-4baa561ba9b7"
      },
      "execution_count": null,
      "outputs": [
        {
          "output_type": "stream",
          "name": "stdout",
          "text": [
            "tf.Tensor(\n",
            "[[[[1. 0. 0.]\n",
            "   [0. 1. 0.]\n",
            "   [0. 0. 1.]]\n",
            "\n",
            "  [[1. 0. 0.]\n",
            "   [0. 1. 0.]\n",
            "   [0. 0. 1.]]\n",
            "\n",
            "  [[1. 0. 0.]\n",
            "   [0. 1. 0.]\n",
            "   [0. 0. 1.]]]\n",
            "\n",
            "\n",
            " [[[1. 0. 0.]\n",
            "   [0. 1. 0.]\n",
            "   [0. 0. 1.]]\n",
            "\n",
            "  [[1. 0. 0.]\n",
            "   [0. 1. 0.]\n",
            "   [0. 0. 1.]]\n",
            "\n",
            "  [[1. 0. 0.]\n",
            "   [0. 1. 0.]\n",
            "   [0. 0. 1.]]]], shape=(2, 3, 3, 3), dtype=float32)\n"
          ]
        }
      ]
    },
    {
      "cell_type": "code",
      "source": [
        "# tensor fill - create a tensor filled with a scalar value\n",
        "filled_tensor = tf.fill([1,3,4], 5)\n",
        "filled_tensor"
      ],
      "metadata": {
        "colab": {
          "base_uri": "https://localhost:8080/"
        },
        "id": "wO1DNsMgAdqA",
        "outputId": "75031e94-062b-4cc6-e895-879bb89653c9"
      },
      "execution_count": null,
      "outputs": [
        {
          "output_type": "execute_result",
          "data": {
            "text/plain": [
              "<tf.Tensor: shape=(1, 3, 4), dtype=int32, numpy=\n",
              "array([[[5, 5, 5, 5],\n",
              "        [5, 5, 5, 5],\n",
              "        [5, 5, 5, 5]]], dtype=int32)>"
            ]
          },
          "metadata": {},
          "execution_count": 30
        }
      ]
    },
    {
      "cell_type": "code",
      "source": [
        "# create a tensor with values set to 1\n",
        "ones_tensor = tf.ones([3,4])\n",
        "ones_tensor"
      ],
      "metadata": {
        "colab": {
          "base_uri": "https://localhost:8080/"
        },
        "id": "_ptBaG0GA-hS",
        "outputId": "347a1d52-8676-412c-f627-57bd4716b3a3"
      },
      "execution_count": null,
      "outputs": [
        {
          "output_type": "execute_result",
          "data": {
            "text/plain": [
              "<tf.Tensor: shape=(3, 4), dtype=float32, numpy=\n",
              "array([[1., 1., 1., 1.],\n",
              "       [1., 1., 1., 1.],\n",
              "       [1., 1., 1., 1.]], dtype=float32)>"
            ]
          },
          "metadata": {},
          "execution_count": 31
        }
      ]
    },
    {
      "cell_type": "code",
      "source": [
        "# create a tensor of all ones, the same shape as input\n",
        "oned_tensor = tf.ones_like(filled_tensor)\n",
        "oned_tensor"
      ],
      "metadata": {
        "colab": {
          "base_uri": "https://localhost:8080/"
        },
        "id": "1wIDWzAYBJho",
        "outputId": "1c7975ef-e954-49cf-a185-b5a91956bf56"
      },
      "execution_count": null,
      "outputs": [
        {
          "output_type": "execute_result",
          "data": {
            "text/plain": [
              "<tf.Tensor: shape=(1, 3, 4), dtype=int32, numpy=\n",
              "array([[[1, 1, 1, 1],\n",
              "        [1, 1, 1, 1],\n",
              "        [1, 1, 1, 1]]], dtype=int32)>"
            ]
          },
          "metadata": {},
          "execution_count": 32
        }
      ]
    },
    {
      "cell_type": "code",
      "source": [
        "# a zeros tensor, zeros_like method exists as well\n",
        "zeros_tensor = tf.zeros([1,3,4])\n",
        "zeros_tensor"
      ],
      "metadata": {
        "colab": {
          "base_uri": "https://localhost:8080/"
        },
        "id": "wnZ6OjW3Bma8",
        "outputId": "7c8ada76-41a3-44c6-9ac8-9b7bbafe2b82"
      },
      "execution_count": null,
      "outputs": [
        {
          "output_type": "execute_result",
          "data": {
            "text/plain": [
              "<tf.Tensor: shape=(1, 3, 4), dtype=float32, numpy=\n",
              "array([[[0., 0., 0., 0.],\n",
              "        [0., 0., 0., 0.],\n",
              "        [0., 0., 0., 0.]]], dtype=float32)>"
            ]
          },
          "metadata": {},
          "execution_count": 33
        }
      ]
    },
    {
      "cell_type": "code",
      "source": [
        "# return a tensor that contains the shape of the tensor\n",
        "shape_tensor = tf.shape(zeros_tensor)\n",
        "shape_tensor"
      ],
      "metadata": {
        "colab": {
          "base_uri": "https://localhost:8080/"
        },
        "id": "6LDb4_nyCCgN",
        "outputId": "086f72e9-9b4f-44eb-d1ef-811c342f7fe5"
      },
      "execution_count": null,
      "outputs": [
        {
          "output_type": "execute_result",
          "data": {
            "text/plain": [
              "<tf.Tensor: shape=(3,), dtype=int32, numpy=array([1, 3, 4], dtype=int32)>"
            ]
          },
          "metadata": {},
          "execution_count": 34
        }
      ]
    },
    {
      "cell_type": "code",
      "source": [
        "# the rank of a tensor, which the ndims, not the rank of a matrix\n",
        "# it can be thought of the min number of indicies required to select a specific element\n",
        "tf.rank(zeros_tensor)"
      ],
      "metadata": {
        "colab": {
          "base_uri": "https://localhost:8080/"
        },
        "id": "AzFyx_D6Cpfj",
        "outputId": "0c5a6d1c-f7c9-4807-e665-a509f226cd7e"
      },
      "execution_count": null,
      "outputs": [
        {
          "output_type": "execute_result",
          "data": {
            "text/plain": [
              "<tf.Tensor: shape=(), dtype=int32, numpy=3>"
            ]
          },
          "metadata": {},
          "execution_count": 35
        }
      ]
    },
    {
      "cell_type": "code",
      "source": [
        "# return a tensor containing the size of a tensor\n",
        "# you can specify the out_type\n",
        "size_tensor = tf.size(zeros_tensor)\n",
        "size_tensor"
      ],
      "metadata": {
        "colab": {
          "base_uri": "https://localhost:8080/"
        },
        "id": "j5gC0M5gDAwh",
        "outputId": "f849865b-ef72-4e32-af29-22bbcf1b180c"
      },
      "execution_count": null,
      "outputs": [
        {
          "output_type": "execute_result",
          "data": {
            "text/plain": [
              "<tf.Tensor: shape=(), dtype=int32, numpy=12>"
            ]
          },
          "metadata": {},
          "execution_count": 36
        }
      ]
    },
    {
      "cell_type": "code",
      "source": [
        "# create a tensor filled with random values from a normal distribution\n",
        "normal_tensor = tf.random.normal([2,3], mean=30.0, stddev=1.0)\n",
        "normal_tensor"
      ],
      "metadata": {
        "colab": {
          "base_uri": "https://localhost:8080/"
        },
        "id": "af86s36pDpDK",
        "outputId": "52e9c126-f37c-4bcf-83bc-a4e42233fc90"
      },
      "execution_count": null,
      "outputs": [
        {
          "output_type": "execute_result",
          "data": {
            "text/plain": [
              "<tf.Tensor: shape=(2, 3), dtype=float32, numpy=\n",
              "array([[32.406475, 30.137728, 29.58299 ],\n",
              "       [29.70774 , 31.498194, 29.891636]], dtype=float32)>"
            ]
          },
          "metadata": {},
          "execution_count": 40
        }
      ]
    },
    {
      "cell_type": "code",
      "source": [
        "# create a tensor with a uniform distribution\n",
        "# maxval is 1 by default\n",
        "# you can set the seed in order to create a reproducable series of tensor\n",
        "uniform_tensor = tf.random.uniform([2,5], minval=0, maxval=10, dtype=tf.int32)\n",
        "uniform_tensor"
      ],
      "metadata": {
        "colab": {
          "base_uri": "https://localhost:8080/"
        },
        "id": "Rds-gDMPESkT",
        "outputId": "ffff40b1-bba1-4dda-c57e-4fd75f0d959e"
      },
      "execution_count": null,
      "outputs": [
        {
          "output_type": "execute_result",
          "data": {
            "text/plain": [
              "<tf.Tensor: shape=(2, 5), dtype=int32, numpy=\n",
              "array([[1, 4, 8, 4, 4],\n",
              "       [2, 9, 6, 7, 1]], dtype=int32)>"
            ]
          },
          "metadata": {},
          "execution_count": 43
        }
      ]
    },
    {
      "cell_type": "code",
      "source": [
        "# setting the seed to reproduce random results\n",
        "tf.random.set_seed(5)\n",
        "rand1_tensor = tf.random.normal([2,3], mean=0, stddev=1, seed=4)\n",
        "print(rand1_tensor)\n",
        "tf.random.set_seed(5)\n",
        "rand2_tensor = tf.random.normal([2,3], mean=0, stddev=1, seed=4)\n",
        "print(rand2_tensor)"
      ],
      "metadata": {
        "colab": {
          "base_uri": "https://localhost:8080/"
        },
        "id": "ReuJ9V8kJ9cP",
        "outputId": "43227c97-2e71-42bf-badb-3874064313a1"
      },
      "execution_count": null,
      "outputs": [
        {
          "output_type": "stream",
          "name": "stdout",
          "text": [
            "tf.Tensor(\n",
            "[[-0.13512394  0.57511264  1.328877  ]\n",
            " [ 0.37756917 -0.9809903   0.0878263 ]], shape=(2, 3), dtype=float32)\n",
            "tf.Tensor(\n",
            "[[-0.13512394  0.57511264  1.328877  ]\n",
            " [ 0.37756917 -0.9809903   0.0878263 ]], shape=(2, 3), dtype=float32)\n"
          ]
        }
      ]
    },
    {
      "cell_type": "code",
      "source": [],
      "metadata": {
        "id": "f7vRSDEoMErB"
      },
      "execution_count": null,
      "outputs": []
    }
  ]
}